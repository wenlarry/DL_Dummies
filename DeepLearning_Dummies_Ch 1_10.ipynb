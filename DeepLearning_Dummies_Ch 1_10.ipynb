{
 "cells": [
  {
   "cell_type": "code",
   "execution_count": 1,
   "metadata": {},
   "outputs": [],
   "source": [
    "# Ch 5 Matrix\n",
    "import numpy as np"
   ]
  },
  {
   "cell_type": "code",
   "execution_count": 2,
   "metadata": {},
   "outputs": [],
   "source": [
    "MatrixA = np.array([[1,2,3],[4,5,6],[7,8,9]])"
   ]
  },
  {
   "cell_type": "code",
   "execution_count": 3,
   "metadata": {},
   "outputs": [
    {
     "data": {
      "text/plain": [
       "array([[1, 2, 3],\n",
       "       [4, 5, 6],\n",
       "       [7, 8, 9]])"
      ]
     },
     "execution_count": 3,
     "metadata": {},
     "output_type": "execute_result"
    }
   ],
   "source": [
    "MatrixA"
   ]
  },
  {
   "cell_type": "code",
   "execution_count": 4,
   "metadata": {},
   "outputs": [],
   "source": [
    "MatrixB=np.array([[1,2],[3,4],[5,6],[7.8]])"
   ]
  },
  {
   "cell_type": "code",
   "execution_count": 5,
   "metadata": {},
   "outputs": [],
   "source": [
    "MatrixB=np.array([[1,2],[3,4],[5,6],[7.8]])"
   ]
  },
  {
   "cell_type": "code",
   "execution_count": 6,
   "metadata": {},
   "outputs": [],
   "source": [
    "MatrixC = np.ones([4,4], dtype=np.int32)"
   ]
  },
  {
   "cell_type": "code",
   "execution_count": 7,
   "metadata": {},
   "outputs": [
    {
     "data": {
      "text/plain": [
       "array([[1, 1, 1, 1],\n",
       "       [1, 1, 1, 1],\n",
       "       [1, 1, 1, 1],\n",
       "       [1, 1, 1, 1]], dtype=int32)"
      ]
     },
     "execution_count": 7,
     "metadata": {},
     "output_type": "execute_result"
    }
   ],
   "source": [
    "MatrixC"
   ]
  },
  {
   "cell_type": "code",
   "execution_count": 8,
   "metadata": {},
   "outputs": [],
   "source": [
    "MatrixD = np.ones([4,4,4], dtype=np.bool)"
   ]
  },
  {
   "cell_type": "code",
   "execution_count": 9,
   "metadata": {},
   "outputs": [
    {
     "data": {
      "text/plain": [
       "array([[[ True,  True,  True,  True],\n",
       "        [ True,  True,  True,  True],\n",
       "        [ True,  True,  True,  True],\n",
       "        [ True,  True,  True,  True]],\n",
       "\n",
       "       [[ True,  True,  True,  True],\n",
       "        [ True,  True,  True,  True],\n",
       "        [ True,  True,  True,  True],\n",
       "        [ True,  True,  True,  True]],\n",
       "\n",
       "       [[ True,  True,  True,  True],\n",
       "        [ True,  True,  True,  True],\n",
       "        [ True,  True,  True,  True],\n",
       "        [ True,  True,  True,  True]],\n",
       "\n",
       "       [[ True,  True,  True,  True],\n",
       "        [ True,  True,  True,  True],\n",
       "        [ True,  True,  True,  True],\n",
       "        [ True,  True,  True,  True]]])"
      ]
     },
     "execution_count": 9,
     "metadata": {},
     "output_type": "execute_result"
    }
   ],
   "source": [
    "MatrixD"
   ]
  },
  {
   "cell_type": "code",
   "execution_count": 10,
   "metadata": {},
   "outputs": [],
   "source": [
    "MatrixE = np.mat([[1,2,3],[4,5,6],[7,8,9]])"
   ]
  },
  {
   "cell_type": "code",
   "execution_count": 11,
   "metadata": {},
   "outputs": [
    {
     "data": {
      "text/plain": [
       "matrix([[1, 2, 3],\n",
       "        [4, 5, 6],\n",
       "        [7, 8, 9]])"
      ]
     },
     "execution_count": 11,
     "metadata": {},
     "output_type": "execute_result"
    }
   ],
   "source": [
    "MatrixE\n"
   ]
  },
  {
   "cell_type": "code",
   "execution_count": 12,
   "metadata": {},
   "outputs": [
    {
     "name": "stdout",
     "output_type": "stream",
     "text": [
      "[[ 1  4  9]\n",
      " [16 25 36]]\n"
     ]
    }
   ],
   "source": [
    "a = np.array([[1,2,3],[4,5,6]])\n",
    "b = np.array([[1,2,3],[4,5,6]])\n",
    "print(a*b)"
   ]
  },
  {
   "cell_type": "code",
   "execution_count": 13,
   "metadata": {},
   "outputs": [
    {
     "name": "stdout",
     "output_type": "stream",
     "text": [
      "[[22 28 34]\n",
      " [49 64 79]]\n"
     ]
    }
   ],
   "source": [
    "a = np.array([[1,2,3],[4,5,6]])\n",
    "b = np.array([[1,2,3],[3,4,5],[5,6,7]])\n",
    "print(a.dot(b))"
   ]
  },
  {
   "cell_type": "code",
   "execution_count": 14,
   "metadata": {},
   "outputs": [
    {
     "name": "stdout",
     "output_type": "stream",
     "text": [
      "[1 2 3 4 5 6 7 8]\n",
      "[[1 2 3 4]\n",
      " [5 6 7 8]]\n",
      "[[[1 2]\n",
      "  [3 4]]\n",
      "\n",
      " [[5 6]\n",
      "  [7 8]]]\n"
     ]
    }
   ],
   "source": [
    "changeIt = np.array([1,2,3,4,5,6,7,8])\n",
    "\n",
    "print(changeIt)\n",
    "\n",
    "print(changeIt.reshape(2,4))\n",
    "\n",
    "print(changeIt.reshape(2,2,2))\n",
    "\n"
   ]
  },
  {
   "cell_type": "code",
   "execution_count": 15,
   "metadata": {},
   "outputs": [
    {
     "name": "stdout",
     "output_type": "stream",
     "text": [
      "[[1 5]\n",
      " [2 6]\n",
      " [3 7]\n",
      " [4 8]]\n"
     ]
    }
   ],
   "source": [
    "changeIt = np.array([[1,2,3,4],[5,6,7,8]])\n",
    "\n",
    "print(np.transpose(changeIt))"
   ]
  },
  {
   "cell_type": "code",
   "execution_count": 16,
   "metadata": {},
   "outputs": [
    {
     "name": "stdout",
     "output_type": "stream",
     "text": [
      "[[1. 0. 0. 0.]\n",
      " [0. 1. 0. 0.]\n",
      " [0. 0. 1. 0.]\n",
      " [0. 0. 0. 1.]]\n"
     ]
    }
   ],
   "source": [
    "print(np.identity(4))"
   ]
  },
  {
   "cell_type": "code",
   "execution_count": 17,
   "metadata": {},
   "outputs": [
    {
     "name": "stdout",
     "output_type": "stream",
     "text": [
      "True\n"
     ]
    }
   ],
   "source": [
    "a = np.array([[1,2],[3,4]])\n",
    "b = np.linalg.inv(a)\n",
    "\n",
    "print(np.allclose(np.dot(a,b),np.identity(2)))\n"
   ]
  },
  {
   "cell_type": "code",
   "execution_count": 18,
   "metadata": {},
   "outputs": [],
   "source": [
    "#Tensors\n",
    "inputs = np.array([5,10,15])"
   ]
  },
  {
   "cell_type": "code",
   "execution_count": 19,
   "metadata": {},
   "outputs": [],
   "source": [
    "weights = np.array([[.5,.2,-1],[.3,.4,.1],[-.2,.1,.3]])"
   ]
  },
  {
   "cell_type": "code",
   "execution_count": 20,
   "metadata": {},
   "outputs": [
    {
     "data": {
      "text/plain": [
       "array([2.5, 6.5, 0.5])"
      ]
     },
     "execution_count": 20,
     "metadata": {},
     "output_type": "execute_result"
    }
   ],
   "source": [
    "result = np.dot(inputs,weights)\n",
    "result"
   ]
  },
  {
   "cell_type": "code",
   "execution_count": 21,
   "metadata": {},
   "outputs": [
    {
     "name": "stdout",
     "output_type": "stream",
     "text": [
      "[2 4 6 8]\n"
     ]
    }
   ],
   "source": [
    "def doAdd(a,b):\n",
    "    return a+b\n",
    "vectAdd = np.vectorize(doAdd)\n",
    "\n",
    "print(vectAdd([1,2,3,4],[1,2,3,4]))"
   ]
  },
  {
   "cell_type": "code",
   "execution_count": 22,
   "metadata": {},
   "outputs": [],
   "source": [
    "\n",
    "# Ch 6  Linear Regression\n",
    "from sklearn.datasets import load_boston\n",
    "from sklearn.preprocessing import scale\n",
    "boston = load_boston()\n",
    "X,y = scale(boston.data), boston.target\n"
   ]
  },
  {
   "cell_type": "code",
   "execution_count": 23,
   "metadata": {},
   "outputs": [
    {
     "data": {
      "text/plain": [
       "LinearRegression(copy_X=True, fit_intercept=True, n_jobs=None,\n",
       "         normalize=False)"
      ]
     },
     "execution_count": 23,
     "metadata": {},
     "output_type": "execute_result"
    }
   ],
   "source": [
    "from sklearn.linear_model import LinearRegression\n",
    "regression = LinearRegression()\n",
    "regression.fit(X,y)"
   ]
  },
  {
   "cell_type": "code",
   "execution_count": 24,
   "metadata": {},
   "outputs": [
    {
     "name": "stdout",
     "output_type": "stream",
     "text": [
      "R2 0.741\n"
     ]
    }
   ],
   "source": [
    "print('R2 %0.3f' % regression.score(X,y))"
   ]
  },
  {
   "cell_type": "code",
   "execution_count": 25,
   "metadata": {},
   "outputs": [
    {
     "name": "stdout",
     "output_type": "stream",
     "text": [
      "['CRIM:-0.9', 'ZN:1.1', 'INDUS:0.1', 'CHAS:0.7', 'NOX:-2.1', 'RM:2.7', 'AGE:0.0', 'DIS:-3.1', 'RAD:2.7', 'TAX:-2.1', 'PTRATIO:-2.1', 'B:0.8', 'LSTAT:-3.7']\n"
     ]
    }
   ],
   "source": [
    "print([a + ':' + str(round(b,1)) for a, b in zip(boston.feature_names,regression.coef_)])\n"
   ]
  },
  {
   "cell_type": "code",
   "execution_count": 26,
   "metadata": {},
   "outputs": [
    {
     "name": "stdout",
     "output_type": "stream",
     "text": [
      "[[0. 0. 1.]\n",
      " [1. 0. 0.]\n",
      " [0. 1. 0.]\n",
      " [0. 0. 1.]\n",
      " [1. 0. 0.]\n",
      " [0. 1. 0.]\n",
      " [0. 0. 1.]\n",
      " [1. 0. 0.]]\n"
     ]
    },
    {
     "name": "stderr",
     "output_type": "stream",
     "text": [
      "/Users/apple/anaconda3/lib/python3.6/site-packages/sklearn/preprocessing/_encoders.py:368: FutureWarning: The handling of integer data will change in version 0.22. Currently, the categories are determined based on the range [0, max(values)], while in the future they will be determined based on the unique values.\n",
      "If you want the future behaviour and silence this warning, you can specify \"categories='auto'\".\n",
      "In case you used a LabelEncoder before this OneHotEncoder to convert the categories to integers, then you can now use the OneHotEncoder directly.\n",
      "  warnings.warn(msg, FutureWarning)\n"
     ]
    }
   ],
   "source": [
    "from sklearn.preprocessing import OneHotEncoder\n",
    "from sklearn.preprocessing import LabelEncoder\n",
    "lbl = LabelEncoder()\n",
    "enc = OneHotEncoder()\n",
    "qualitative =['red','blue','green','red',\n",
    "              'blue','green','red','blue']\n",
    "labels = lbl.fit_transform(qualitative).reshape(8,1)\n",
    "print(enc.fit_transform(labels).toarray())"
   ]
  },
  {
   "cell_type": "code",
   "execution_count": 27,
   "metadata": {},
   "outputs": [
    {
     "name": "stdout",
     "output_type": "stream",
     "text": [
      "R2: 0.820\n"
     ]
    }
   ],
   "source": [
    "from sklearn.preprocessing import PolynomialFeatures\n",
    "from sklearn.model_selection import train_test_split\n",
    "from sklearn.metrics import r2_score\n",
    "\n",
    "pf = PolynomialFeatures(degree=2)\n",
    "poly_X = pf.fit_transform(X)\n",
    "X_train, X_test, y_train, y_test =(train_test_split(poly_X, y, test_size = 0.33, random_state = 42))\n",
    "\n",
    "from sklearn.linear_model import Ridge\n",
    "reg_regression = Ridge(alpha=0.1, normalize=True)\n",
    "reg_regression.fit(X_train, y_train)\n",
    "print('R2: %0.3f' % r2_score(y_test, reg_regression.predict(X_test)))\n"
   ]
  },
  {
   "cell_type": "code",
   "execution_count": 28,
   "metadata": {},
   "outputs": [
    {
     "name": "stdout",
     "output_type": "stream",
     "text": [
      "[False False False False  True  True  True  True]\n"
     ]
    }
   ],
   "source": [
    "import numpy as np\n",
    "\n",
    "a = np.array([0,0,0,0,1,1,1,1])\n",
    "b = np.array([1,2,3,4,5,6,7,8]).reshape(8,1)\n",
    "from sklearn.linear_model import LinearRegression\n",
    "regression = LinearRegression()\n",
    "regression.fit(b,a)\n",
    "print(regression.predict(b)>0.5)"
   ]
  },
  {
   "cell_type": "code",
   "execution_count": 29,
   "metadata": {},
   "outputs": [
    {
     "name": "stdout",
     "output_type": "stream",
     "text": [
      "In-sample accuracy: 0.973\n",
      "Out-sample accuracy:0.958\n"
     ]
    },
    {
     "name": "stderr",
     "output_type": "stream",
     "text": [
      "/Users/apple/anaconda3/lib/python3.6/site-packages/sklearn/linear_model/logistic.py:433: FutureWarning: Default solver will be changed to 'lbfgs' in 0.22. Specify a solver to silence this warning.\n",
      "  FutureWarning)\n"
     ]
    }
   ],
   "source": [
    "from sklearn.linear_model import LogisticRegression\n",
    "from sklearn.model_selection import train_test_split\n",
    "\n",
    "binary_y = np.array(y >= 40).astype(int)\n",
    "X_train, X_test, y_train, y_test = train_test_split(X, binary_y, test_size=0.33, random_state=5)\n",
    "logistic = LogisticRegression()\n",
    "logistic.fit(X_train, y_train)\n",
    "\n",
    "from sklearn.metrics import accuracy_score\n",
    "print('In-sample accuracy: %0.3f' % accuracy_score(y_train,logistic.predict(X_train)))\n",
    "print('Out-sample accuracy:%0.3f' % accuracy_score(y_test, logistic.predict(X_test)))\n"
   ]
  },
  {
   "cell_type": "code",
   "execution_count": 30,
   "metadata": {},
   "outputs": [
    {
     "name": "stdout",
     "output_type": "stream",
     "text": [
      "   CRIM:  -0.005\n",
      "     ZN:   0.197\n",
      "  INDUS:   0.580\n",
      "   CHAS:  -0.023\n",
      "    NOX:  -0.236\n",
      "     RM:   1.426\n",
      "    AGE:  -0.048\n",
      "    DIS:  -0.365\n",
      "    RAD:   0.645\n",
      "    TAX:  -0.221\n",
      "PTRATIO:  -0.554\n",
      "      B:   0.049\n",
      "  LSTAT:  -0.803\n"
     ]
    }
   ],
   "source": [
    "for var,coef in zip(boston.feature_names, logistic.coef_[0]):\n",
    "    \n",
    "        print('%7s: %7.3f' %(var,coef))"
   ]
  },
  {
   "cell_type": "code",
   "execution_count": 31,
   "metadata": {},
   "outputs": [
    {
     "name": "stdout",
     "output_type": "stream",
     "text": [
      "\n",
      "classes: [0 1]\n",
      "\n",
      "Probs:\n",
      " [[0.39026273 0.60973727]\n",
      " [0.93857028 0.06142972]\n",
      " [0.98425591 0.01574409]]\n"
     ]
    }
   ],
   "source": [
    "print('\\nclasses:',logistic.classes_)\n",
    "print('\\nProbs:\\n',logistic.predict_proba(X_test)[:3,:])\n",
    "                                                "
   ]
  },
  {
   "cell_type": "code",
   "execution_count": 32,
   "metadata": {},
   "outputs": [
    {
     "name": "stdout",
     "output_type": "stream",
     "text": [
      "Random features: 1 -> R2: 0.743\n",
      "Random features: 2 -> R2: 0.743\n",
      "Random features: 4 -> R2: 0.743\n",
      "Random features: 8 -> R2: 0.747\n",
      "Random features: 16 -> R2: 0.756\n",
      "Random features: 32 -> R2: 0.767\n",
      "Random features: 64 -> R2: 0.793\n",
      "Random features: 128 -> R2: 0.857\n"
     ]
    }
   ],
   "source": [
    "from sklearn.model_selection import train_test_split\n",
    "from sklearn.metrics import r2_score\n",
    "\n",
    "X_train, X_test, y_train, y_test = train_test_split(X, y, test_size=0.33, random_state=42)\n",
    "check =[2**i for i in range(8)]\n",
    "for i in range(2**7+1):\n",
    "    X_train = np.column_stack((X_train, np.random.random(X_train.shape[0])))\n",
    "    X_test = np.column_stack((X_test, np.random.random(X_test.shape[0])))\n",
    "    regression.fit(X_train, y_train)\n",
    "    if i in check:\n",
    "        print('Random features: %i -> R2: %0.3f' %(i, r2_score(y_train, regression.predict(X_train))))\n",
    "        "
   ]
  },
  {
   "cell_type": "code",
   "execution_count": 33,
   "metadata": {},
   "outputs": [
    {
     "name": "stdout",
     "output_type": "stream",
     "text": [
      "R2 0.398\n"
     ]
    }
   ],
   "source": [
    "regression.fit(X_train, y_train)\n",
    "print('R2 %0.3f'\n",
    "    % r2_score(y_test,regression.predict(X_test)))"
   ]
  },
  {
   "cell_type": "code",
   "execution_count": 34,
   "metadata": {},
   "outputs": [
    {
     "name": "stdout",
     "output_type": "stream",
     "text": [
      "R2:0.820\n"
     ]
    }
   ],
   "source": [
    "from sklearn.preprocessing import PolynomialFeatures\n",
    "from sklearn.model_selection import train_test_split\n",
    "\n",
    "pf = PolynomialFeatures(degree=2)\n",
    "poly_X = pf.fit_transform(X)\n",
    "X_train, X_test, y_train, y_test = train_test_split(poly_X, y, test_size=0.33, random_state=42)\n",
    "\n",
    "from sklearn.linear_model import Ridge\n",
    "reg_regression = Ridge(alpha=0.1, normalize=True)\n",
    "reg_regression.fit(X_train, y_train)\n",
    "print('R2:%0.3f' % r2_score(y_test, reg_regression.predict(X_test)))\n"
   ]
  },
  {
   "cell_type": "code",
   "execution_count": 35,
   "metadata": {},
   "outputs": [],
   "source": [
    "## Suppress Codes. Output a large file. Codes Work\n",
    "\n",
    "#from sklearn.model_selection import train_test_split\n",
    "#from sklearn.linear_model import SGDRegressor\n",
    "\n",
    "#X_train, X_test, y_train, y_test = train_test_split(X, y, test_size=0.33, random_state=42)\n",
    "#SGD = SGDRegressor(penalty=None, learning_rate='invscaling', eta0=0.01, power_t=0.25, max_iter=5, tol=None)\n",
    "#power =17\n",
    "#check = [2**i for i in range(power+1)]\n",
    "#for i in range(400):\n",
    "    #for j in range(X_train.shape[0]):\n",
    "        #SGD.partial_fit(X_train[j,:].reshape(1,13),\n",
    "                        #y_train[j].reshape(1,))\n",
    "        #count = (j+1) + X_train.shape[0] + 1\n",
    "        #if count in check:\n",
    "            #R2 = r2_score(y_test, SGD.predict(X_test))\n",
    "            #print('Eg %6i R2 %0.3f coef:%s' %(count, R2, ' '.join(map(lambda x:'%0.3f' %x, SGD.coef_))))\n",
    "        "
   ]
  },
  {
   "cell_type": "code",
   "execution_count": 36,
   "metadata": {},
   "outputs": [],
   "source": [
    "#Ch 8 - Neural Network\n",
    "import numpy as np\n",
    "from sklearn.datasets import make_moons\n",
    "from sklearn.model_selection import train_test_split"
   ]
  },
  {
   "cell_type": "code",
   "execution_count": 37,
   "metadata": {},
   "outputs": [],
   "source": [
    "import matplotlib as plt\n",
    "%matplotlib inline\n",
    "\n",
    "def init(inp, out):\n",
    "    return np.random.randn(inp, out)/np.sqrt(inp)\n",
    "def creat_architecture(input_layer, first_layer, output_layer, random_seed=0):\n",
    "    np.random.seed(random_seed)\n",
    "    layers = X.shape[1], 3, 1\n",
    "    arch = list(zip(layers[:1], layers[1:]))\n",
    "    weights = [init(inp, out) for inp, out in arch]\n",
    "    return weights"
   ]
  },
  {
   "cell_type": "code",
   "execution_count": 38,
   "metadata": {},
   "outputs": [],
   "source": [
    "def sigmoid(z):\n",
    "    return 1/(1 + np.exp(-z))\n",
    "def sigmoid_prime(s):\n",
    "    return s + (1-s)"
   ]
  },
  {
   "cell_type": "code",
   "execution_count": 39,
   "metadata": {},
   "outputs": [],
   "source": [
    "def feed_forward(X, weights):\n",
    "    a = X.copy()\n",
    "    out = list()\n",
    "    for W in weights:\n",
    "        z = np.dot(a,W)\n",
    "        a = sigmoid(z)\n",
    "        out.append(a)\n",
    "    return out \n"
   ]
  },
  {
   "cell_type": "code",
   "execution_count": 40,
   "metadata": {},
   "outputs": [],
   "source": [
    "def accuracy(true_label, predicted):\n",
    "    correct_preds = np.ravel(predicted)==true_label\n",
    "    return np.sum(correct_preds)/len(true_label)"
   ]
  },
  {
   "cell_type": "code",
   "execution_count": 41,
   "metadata": {},
   "outputs": [],
   "source": [
    "def backpropagation(l1, l2, weights, y):\n",
    "    l2_error = y.reshape(-1, 1) - l2\n",
    "    l2_delta = l2_error + sigmoid_prime(l2)\n",
    "    l1_error = l2_delta.dot(weights[1].T)\n",
    "    l1_delta = l1_error + sigmoid_prime(l1)\n",
    "    return l2_error, l1_delta, l2_delta\n",
    "    "
   ]
  },
  {
   "cell_type": "code",
   "execution_count": 42,
   "metadata": {},
   "outputs": [],
   "source": [
    "def update_weights(X, l1, l1_delta, l2_delta, weights, alpha=1.0):\n",
    "    weights[1] = weights[1] + (alpha * l1.T.dot(l2_delta))\n",
    "    weights[0] = weights[0] + (alpha * X.T.dot(l1_delta))\n",
    "    return weights "
   ]
  },
  {
   "cell_type": "code",
   "execution_count": 43,
   "metadata": {},
   "outputs": [],
   "source": [
    "def predict(X, weights):\n",
    "    _, l2 = feed_forward(X, weights)\n",
    "    preds = np.ravel((l2, 0.5).astype(int))\n",
    "    return preds"
   ]
  },
  {
   "cell_type": "code",
   "execution_count": 44,
   "metadata": {},
   "outputs": [
    {
     "data": {
      "image/png": "[encoded data removed]",
      "text/plain": [
       "<Figure size 432x288 with 1 Axes>"
      ]
     },
     "metadata": {},
     "output_type": "display_data"
    }
   ],
   "source": [
    "import numpy as np\n",
    "import matplotlib.pyplot as plt\n",
    "np.random.seed(0)\n",
    "coord, c1 = make_moons(300, noise=0.05)\n",
    "X, Xt, y, yt = train_test_split(coord, c1, test_size=0.30, random_state=0)\n",
    "\n",
    "plt.scatter(X[:,0], X[:,1], s=25, c=y, cmap=plt.cm.Set1)\n",
    "plt.show()\n"
   ]
  },
  {
   "cell_type": "code",
   "execution_count": 23,
   "metadata": {},
   "outputs": [],
   "source": [
    "import keras\n",
    "import numpy as np\n",
    "from keras.datasets import mnist\n",
    "from keras.models import Sequential\n",
    "from keras.layers import Conv2D, AveragePooling2D\n",
    "from keras.layers import Dense, Flatten\n",
    "from keras.losses import categorical_crossentropy\n",
    "\n",
    "    "
   ]
  },
  {
   "cell_type": "code",
   "execution_count": 24,
   "metadata": {},
   "outputs": [],
   "source": [
    "(X_train, y_train), (X_test, y_test) = mnist.load_data()"
   ]
  },
  {
   "cell_type": "code",
   "execution_count": 25,
   "metadata": {},
   "outputs": [
    {
     "name": "stdout",
     "output_type": "stream",
     "text": [
      "5 => [0. 0. 0. 0. 0. 1. 0. 0. 0. 0.]\n"
     ]
    }
   ],
   "source": [
    "num_class = len(np.unique(y_train))\n",
    "print(y_train[0], end=' => ')\n",
    "y_train = keras.utils.to_categorical(y_train, 10)\n",
    "y_test = keras.utils.to_categorical(y_test,10)\n",
    "print(y_train[0])"
   ]
  },
  {
   "cell_type": "code",
   "execution_count": 26,
   "metadata": {},
   "outputs": [
    {
     "name": "stdout",
     "output_type": "stream",
     "text": [
      "(28, 28, 1)\n"
     ]
    }
   ],
   "source": [
    "# rescale 0-1 and cast training data as float32\n",
    "X_train = X_train.astype(np.float32) / 255\n",
    "X_test = X_test.astype(np.float32) / 255\n",
    "\n",
    "# reshape data to have also the channel dimension\n",
    "img_rows, img_cols = X_train.shape[1:]\n",
    "X_train = X_train.reshape(len(X_train), img_rows, img_cols, 1)\n",
    "X_test = X_test.reshape(len(X_test), img_rows, img_cols, 1)\n",
    "\n",
    "# notice the input shape\n",
    "input_shape = (img_rows, img_cols, 1)\n",
    "print(input_shape)\n"
   ]
  },
  {
   "cell_type": "code",
   "execution_count": 27,
   "metadata": {},
   "outputs": [],
   "source": [
    "lenet = Sequential()\n",
    "\n",
    "# Convolutional Layer C1\n",
    "lenet.add(Conv2D(6, kernel_size=(5, 5), activation='tanh', \n",
    "                 input_shape=input_shape, padding='same', name='C1'))\n",
    "\n",
    "# Pooling Layer S2\n",
    "lenet.add(AveragePooling2D(pool_size=(2, 2), name='S2'))\n",
    "\n",
    "# Convolutional Layer C3\n",
    "lenet.add(Conv2D(16, kernel_size=(5, 5), activation='tanh', name='C3'))\n",
    "\n",
    "# Pooling Layer S4\n",
    "lenet.add(AveragePooling2D(pool_size=(2, 2), name='S4'))\n",
    "\n",
    "# Fully Connected Convolutional Layer C5\n",
    "lenet.add(Conv2D(120, kernel_size=(5, 5), activation='tanh', name='C5'))\n",
    "\n",
    "# Fully Connected Layer FC6\n",
    "lenet.add(Flatten())\n",
    "lenet.add(Dense(84, activation='tanh', name='FC6'))\n",
    "\n",
    "#Output Layer (softmax activation)\n",
    "lenet.add(Dense(10, activation='softmax', name='OUTPUT'))"
   ]
  },
  {
   "cell_type": "code",
   "execution_count": 28,
   "metadata": {},
   "outputs": [
    {
     "name": "stdout",
     "output_type": "stream",
     "text": [
      "_________________________________________________________________\n",
      "Layer (type)                 Output Shape              Param #   \n",
      "=================================================================\n",
      "C1 (Conv2D)                  (None, 28, 28, 6)         156       \n",
      "_________________________________________________________________\n",
      "S2 (AveragePooling2D)        (None, 14, 14, 6)         0         \n",
      "_________________________________________________________________\n",
      "C3 (Conv2D)                  (None, 10, 10, 16)        2416      \n",
      "_________________________________________________________________\n",
      "S4 (AveragePooling2D)        (None, 5, 5, 16)          0         \n",
      "_________________________________________________________________\n",
      "C5 (Conv2D)                  (None, 1, 1, 120)         48120     \n",
      "_________________________________________________________________\n",
      "flatten_2 (Flatten)          (None, 120)               0         \n",
      "_________________________________________________________________\n",
      "FC6 (Dense)                  (None, 84)                10164     \n",
      "_________________________________________________________________\n",
      "OUTPUT (Dense)               (None, 10)                850       \n",
      "=================================================================\n",
      "Total params: 61,706\n",
      "Trainable params: 61,706\n",
      "Non-trainable params: 0\n",
      "_________________________________________________________________\n"
     ]
    }
   ],
   "source": [
    "lenet.compile(loss=categorical_crossentropy, optimizer='SGD', metrics=['accuracy'])\n",
    "lenet.summary()"
   ]
  },
  {
   "cell_type": "code",
   "execution_count": 29,
   "metadata": {},
   "outputs": [
    {
     "name": "stdout",
     "output_type": "stream",
     "text": [
      "Train on 60000 samples, validate on 10000 samples\n",
      "Epoch 1/50\n",
      "60000/60000 [==============================] - 50s 838us/step - loss: 0.8928 - acc: 0.7870 - val_loss: 0.3963 - val_acc: 0.8964\n",
      "Epoch 2/50\n",
      "60000/60000 [==============================] - 49s 816us/step - loss: 0.3506 - acc: 0.9025 - val_loss: 0.2915 - val_acc: 0.9183\n",
      "Epoch 3/50\n",
      "60000/60000 [==============================] - 49s 815us/step - loss: 0.2802 - acc: 0.9185 - val_loss: 0.2422 - val_acc: 0.9280\n",
      "Epoch 4/50\n",
      "60000/60000 [==============================] - 47s 791us/step - loss: 0.2382 - acc: 0.9296 - val_loss: 0.2088 - val_acc: 0.9385\n",
      "Epoch 5/50\n",
      "60000/60000 [==============================] - 50s 833us/step - loss: 0.2068 - acc: 0.9383 - val_loss: 0.1809 - val_acc: 0.9453\n",
      "Epoch 6/50\n",
      "60000/60000 [==============================] - 49s 821us/step - loss: 0.1821 - acc: 0.9461 - val_loss: 0.1600 - val_acc: 0.9539\n",
      "Epoch 7/50\n",
      "60000/60000 [==============================] - 50s 831us/step - loss: 0.1617 - acc: 0.9523 - val_loss: 0.1431 - val_acc: 0.9600\n",
      "Epoch 8/50\n",
      "60000/60000 [==============================] - 50s 835us/step - loss: 0.1454 - acc: 0.9568 - val_loss: 0.1297 - val_acc: 0.9629\n",
      "Epoch 9/50\n",
      "60000/60000 [==============================] - 50s 837us/step - loss: 0.1316 - acc: 0.9616 - val_loss: 0.1178 - val_acc: 0.9667\n",
      "Epoch 10/50\n",
      "60000/60000 [==============================] - 50s 836us/step - loss: 0.1204 - acc: 0.9648 - val_loss: 0.1077 - val_acc: 0.9697\n",
      "Epoch 11/50\n",
      "60000/60000 [==============================] - 53s 884us/step - loss: 0.1109 - acc: 0.9678 - val_loss: 0.1000 - val_acc: 0.9707\n",
      "Epoch 12/50\n",
      "60000/60000 [==============================] - 51s 850us/step - loss: 0.1028 - acc: 0.9698 - val_loss: 0.0934 - val_acc: 0.9723\n",
      "Epoch 13/50\n",
      "60000/60000 [==============================] - 50s 825us/step - loss: 0.0958 - acc: 0.9719 - val_loss: 0.0878 - val_acc: 0.9734\n",
      "Epoch 14/50\n",
      "60000/60000 [==============================] - 50s 838us/step - loss: 0.0897 - acc: 0.9738 - val_loss: 0.0838 - val_acc: 0.9750\n",
      "Epoch 15/50\n",
      "60000/60000 [==============================] - 50s 832us/step - loss: 0.0845 - acc: 0.9751 - val_loss: 0.0789 - val_acc: 0.9757\n",
      "Epoch 16/50\n",
      "60000/60000 [==============================] - 49s 824us/step - loss: 0.0795 - acc: 0.9767 - val_loss: 0.0738 - val_acc: 0.9771\n",
      "Epoch 17/50\n",
      "60000/60000 [==============================] - 50s 841us/step - loss: 0.0756 - acc: 0.9779 - val_loss: 0.0713 - val_acc: 0.9788\n",
      "Epoch 18/50\n",
      "60000/60000 [==============================] - 51s 846us/step - loss: 0.0719 - acc: 0.9785 - val_loss: 0.0682 - val_acc: 0.9788\n",
      "Epoch 19/50\n",
      "60000/60000 [==============================] - 51s 843us/step - loss: 0.0685 - acc: 0.9799 - val_loss: 0.0649 - val_acc: 0.9790\n",
      "Epoch 20/50\n",
      "60000/60000 [==============================] - 50s 835us/step - loss: 0.0655 - acc: 0.9805 - val_loss: 0.0627 - val_acc: 0.9812\n",
      "Epoch 21/50\n",
      "60000/60000 [==============================] - 51s 855us/step - loss: 0.0627 - acc: 0.9815 - val_loss: 0.0611 - val_acc: 0.9804\n",
      "Epoch 22/50\n",
      "60000/60000 [==============================] - 51s 856us/step - loss: 0.0601 - acc: 0.9822 - val_loss: 0.0588 - val_acc: 0.9814\n",
      "Epoch 23/50\n",
      "60000/60000 [==============================] - 50s 834us/step - loss: 0.0579 - acc: 0.9828 - val_loss: 0.0564 - val_acc: 0.9823\n",
      "Epoch 24/50\n",
      "60000/60000 [==============================] - 49s 809us/step - loss: 0.0556 - acc: 0.9836 - val_loss: 0.0565 - val_acc: 0.9828\n",
      "Epoch 25/50\n",
      "60000/60000 [==============================] - 48s 808us/step - loss: 0.0537 - acc: 0.9840 - val_loss: 0.0533 - val_acc: 0.9837\n",
      "Epoch 26/50\n",
      "60000/60000 [==============================] - 48s 805us/step - loss: 0.0519 - acc: 0.9848 - val_loss: 0.0520 - val_acc: 0.9841\n",
      "Epoch 27/50\n",
      "60000/60000 [==============================] - 48s 806us/step - loss: 0.0501 - acc: 0.9853 - val_loss: 0.0525 - val_acc: 0.9832\n",
      "Epoch 28/50\n",
      "60000/60000 [==============================] - 50s 839us/step - loss: 0.0488 - acc: 0.9855 - val_loss: 0.0484 - val_acc: 0.9848\n",
      "Epoch 29/50\n",
      "60000/60000 [==============================] - 51s 844us/step - loss: 0.0472 - acc: 0.9860 - val_loss: 0.0478 - val_acc: 0.9850\n",
      "Epoch 30/50\n",
      "60000/60000 [==============================] - 51s 842us/step - loss: 0.0458 - acc: 0.9868 - val_loss: 0.0473 - val_acc: 0.9856\n",
      "Epoch 31/50\n",
      "60000/60000 [==============================] - 51s 842us/step - loss: 0.0444 - acc: 0.9870 - val_loss: 0.0466 - val_acc: 0.9856\n",
      "Epoch 32/50\n",
      "60000/60000 [==============================] - 51s 844us/step - loss: 0.0434 - acc: 0.9874 - val_loss: 0.0470 - val_acc: 0.9849\n",
      "Epoch 33/50\n",
      "60000/60000 [==============================] - 52s 860us/step - loss: 0.0422 - acc: 0.9878 - val_loss: 0.0449 - val_acc: 0.9852\n",
      "Epoch 34/50\n",
      "60000/60000 [==============================] - 52s 861us/step - loss: 0.0411 - acc: 0.9880 - val_loss: 0.0436 - val_acc: 0.9865\n",
      "Epoch 35/50\n",
      "60000/60000 [==============================] - 49s 824us/step - loss: 0.0399 - acc: 0.9886 - val_loss: 0.0428 - val_acc: 0.9867\n",
      "Epoch 36/50\n",
      "60000/60000 [==============================] - 54s 899us/step - loss: 0.0389 - acc: 0.9889 - val_loss: 0.0431 - val_acc: 0.9859\n",
      "Epoch 37/50\n",
      "60000/60000 [==============================] - 51s 849us/step - loss: 0.0381 - acc: 0.9892 - val_loss: 0.0438 - val_acc: 0.9863\n",
      "Epoch 38/50\n",
      "60000/60000 [==============================] - 51s 845us/step - loss: 0.0370 - acc: 0.9896 - val_loss: 0.0426 - val_acc: 0.9862\n",
      "Epoch 39/50\n",
      "60000/60000 [==============================] - 51s 846us/step - loss: 0.0362 - acc: 0.9901 - val_loss: 0.0404 - val_acc: 0.9872\n",
      "Epoch 40/50\n",
      "60000/60000 [==============================] - 51s 845us/step - loss: 0.0354 - acc: 0.9900 - val_loss: 0.0413 - val_acc: 0.9869\n",
      "Epoch 41/50\n",
      "60000/60000 [==============================] - 51s 848us/step - loss: 0.0346 - acc: 0.9903 - val_loss: 0.0400 - val_acc: 0.9870\n",
      "Epoch 42/50\n",
      "60000/60000 [==============================] - 51s 850us/step - loss: 0.0338 - acc: 0.9907 - val_loss: 0.0392 - val_acc: 0.9870\n",
      "Epoch 43/50\n",
      "60000/60000 [==============================] - 51s 847us/step - loss: 0.0331 - acc: 0.9908 - val_loss: 0.0402 - val_acc: 0.9865\n",
      "Epoch 44/50\n",
      "60000/60000 [==============================] - 51s 850us/step - loss: 0.0323 - acc: 0.9911 - val_loss: 0.0390 - val_acc: 0.9868\n",
      "Epoch 45/50\n",
      "60000/60000 [==============================] - 51s 849us/step - loss: 0.0317 - acc: 0.9910 - val_loss: 0.0387 - val_acc: 0.9874\n",
      "Epoch 46/50\n",
      "60000/60000 [==============================] - 51s 852us/step - loss: 0.0312 - acc: 0.9914 - val_loss: 0.0376 - val_acc: 0.9870\n",
      "Epoch 47/50\n",
      "60000/60000 [==============================] - 51s 849us/step - loss: 0.0302 - acc: 0.9917 - val_loss: 0.0391 - val_acc: 0.9868\n",
      "Epoch 48/50\n",
      "60000/60000 [==============================] - 51s 851us/step - loss: 0.0298 - acc: 0.9920 - val_loss: 0.0378 - val_acc: 0.9872\n",
      "Epoch 49/50\n",
      "60000/60000 [==============================] - 51s 849us/step - loss: 0.0295 - acc: 0.9917 - val_loss: 0.0375 - val_acc: 0.9874\n",
      "Epoch 50/50\n",
      "60000/60000 [==============================] - 51s 849us/step - loss: 0.0286 - acc: 0.9920 - val_loss: 0.0374 - val_acc: 0.9873\n"
     ]
    }
   ],
   "source": [
    "batch_size = 64\n",
    "epochs = 50\n",
    "history = lenet.fit(X_train, y_train,\n",
    "                      batch_size=batch_size,\n",
    "                      epochs=epochs,\n",
    "                      validation_data=(X_test, \n",
    "                                       y_test))"
   ]
  },
  {
   "cell_type": "code",
   "execution_count": null,
   "metadata": {},
   "outputs": [],
   "source": []
  }
 ],
 "metadata": {
  "kernelspec": {
   "display_name": "Python 3",
   "language": "python",
   "name": "python3"
  },
  "language_info": {
   "codemirror_mode": {
    "name": "ipython",
    "version": 3
   },
   "file_extension": ".py",
   "mimetype": "text/x-python",
   "name": "python",
   "nbconvert_exporter": "python",
   "pygments_lexer": "ipython3",
   "version": "3.6.8"
  }
 },
 "nbformat": 4,
 "nbformat_minor": 2
}
