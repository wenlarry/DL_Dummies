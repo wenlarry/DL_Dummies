{
 "cells": [
  {
   "cell_type": "code",
   "execution_count": 1,
   "metadata": {},
   "outputs": [
    {
     "data": {
      "text/plain": [
       "('./0.5.0.zip', <http.client.HTTPMessage at 0x10ccd81d0>)"
      ]
     },
     "execution_count": 1,
     "metadata": {},
     "output_type": "execute_result"
    }
   ],
   "source": [
    "# Ch 13 - many codes do not work\n",
    "import os\n",
    "import zipfile\n",
    "import urllib.request\n",
    "import warnings\n",
    "warnings.filterwarnings('ignore')\n",
    "url = \"https://github.com/fizyr/\\\n",
    "keras-retinanet/archive/0.5.0.zip\"\n",
    "urllib.request.urlretrieve(url, './'+url.split('/')[-1])"
   ]
  },
  {
   "cell_type": "code",
   "execution_count": 2,
   "metadata": {},
   "outputs": [],
   "source": [
    "zip_ref = zipfile.ZipFile('./0.5.0.zip', 'r')\n",
    "for name in zip_ref.namelist():\n",
    "    zip_ref.extract(name, './')\n",
    "zip_ref.close()"
   ]
  },
  {
   "cell_type": "code",
   "execution_count": 3,
   "metadata": {
    "scrolled": true
   },
   "outputs": [
    {
     "name": "stdout",
     "output_type": "stream",
     "text": [
      "running build_ext\n",
      "cythoning keras_retinanet/utils/compute_overlap.pyx to keras_retinanet/utils/compute_overlap.c\n",
      "building 'keras_retinanet.utils.compute_overlap' extension\n",
      "gcc -Wno-unused-result -Wsign-compare -Wunreachable-code -DNDEBUG -g -fwrapv -O3 -Wall -Wstrict-prototypes -I/Users/apple/anaconda3/include -arch x86_64 -I/Users/apple/anaconda3/include -arch x86_64 -I/Users/apple/anaconda3/lib/python3.6/site-packages/numpy/core/include -I/Users/apple/anaconda3/include/python3.6m -c keras_retinanet/utils/compute_overlap.c -o build/temp.macosx-10.7-x86_64-3.6/keras_retinanet/utils/compute_overlap.o\n",
      "In file included from keras_retinanet/utils/compute_overlap.c:566:\n",
      "In file included from /Users/apple/anaconda3/lib/python3.6/site-packages/numpy/core/include/numpy/arrayobject.h:4:\n",
      "In file included from /Users/apple/anaconda3/lib/python3.6/site-packages/numpy/core/include/numpy/ndarrayobject.h:18:\n",
      "In file included from /Users/apple/anaconda3/lib/python3.6/site-packages/numpy/core/include/numpy/ndarraytypes.h:1823:\n",
      "\u001b[1m/Users/apple/anaconda3/lib/python3.6/site-packages/numpy/core/include/numpy/npy_1_7_deprecated_api.h:15:2: \u001b[0m\u001b[0;1;35mwarning: \u001b[0m\u001b[1m\n",
      "      \"Using deprecated NumPy API, disable it by \"          \"#defining\n",
      "      NPY_NO_DEPRECATED_API NPY_1_7_API_VERSION\" [-W#warnings]\u001b[0m\n",
      "#warning \"Using deprecated NumPy API, disable it by \" \\\n",
      "\u001b[0;1;32m ^\n",
      "\u001b[0m1 warning generated.\n",
      "gcc -bundle -undefined dynamic_lookup -L/Users/apple/anaconda3/lib -arch x86_64 -L/Users/apple/anaconda3/lib -arch x86_64 -arch x86_64 build/temp.macosx-10.7-x86_64-3.6/keras_retinanet/utils/compute_overlap.o -o build/lib.macosx-10.7-x86_64-3.6/keras_retinanet/utils/compute_overlap.cpython-36m-darwin.so\n",
      "copying build/lib.macosx-10.7-x86_64-3.6/keras_retinanet/utils/compute_overlap.cpython-36m-darwin.so -> keras_retinanet/utils\n",
      "Processing /Users/apple/keras-retinanet-0.5.0\n",
      "Requirement already satisfied: keras in /Users/apple/anaconda3/lib/python3.6/site-packages (from keras-retinanet==0.5.0) (2.2.4)\n",
      "Requirement already satisfied: keras-resnet in /Users/apple/anaconda3/lib/python3.6/site-packages (from keras-retinanet==0.5.0) (0.2.0)\n",
      "Requirement already satisfied: six in /Users/apple/anaconda3/lib/python3.6/site-packages (from keras-retinanet==0.5.0) (1.11.0)\n",
      "Requirement already satisfied: scipy in /Users/apple/anaconda3/lib/python3.6/site-packages (from keras-retinanet==0.5.0) (1.1.0)\n",
      "Requirement already satisfied: cython in /Users/apple/anaconda3/lib/python3.6/site-packages (from keras-retinanet==0.5.0) (0.28.2)\n",
      "Requirement already satisfied: Pillow in /Users/apple/anaconda3/lib/python3.6/site-packages (from keras-retinanet==0.5.0) (5.4.1)\n",
      "Requirement already satisfied: opencv-python in /Users/apple/anaconda3/lib/python3.6/site-packages (from keras-retinanet==0.5.0) (4.1.0.25)\n",
      "Requirement already satisfied: progressbar2 in /Users/apple/anaconda3/lib/python3.6/site-packages (from keras-retinanet==0.5.0) (3.42.0)\n",
      "Requirement already satisfied: numpy>=1.9.1 in /Users/apple/anaconda3/lib/python3.6/site-packages (from keras->keras-retinanet==0.5.0) (1.15.4)\n",
      "Requirement already satisfied: pyyaml in /Users/apple/anaconda3/lib/python3.6/site-packages (from keras->keras-retinanet==0.5.0) (3.12)\n",
      "Requirement already satisfied: h5py in /Users/apple/anaconda3/lib/python3.6/site-packages (from keras->keras-retinanet==0.5.0) (2.7.1)\n",
      "Requirement already satisfied: keras_applications>=1.0.6 in /Users/apple/anaconda3/lib/python3.6/site-packages (from keras->keras-retinanet==0.5.0) (1.0.6)\n",
      "Requirement already satisfied: keras_preprocessing>=1.0.5 in /Users/apple/anaconda3/lib/python3.6/site-packages (from keras->keras-retinanet==0.5.0) (1.0.5)\n",
      "Requirement already satisfied: python-utils>=2.3.0 in /Users/apple/anaconda3/lib/python3.6/site-packages (from progressbar2->keras-retinanet==0.5.0) (2.3.0)\n",
      "Building wheels for collected packages: keras-retinanet\n",
      "  Building wheel for keras-retinanet (setup.py) ... \u001b[?25ldone\n",
      "\u001b[?25h  Stored in directory: /Users/apple/Library/Caches/pip/wheels/96/73/ac/33dde3396327aae74b6d6dfbb16ebd98c6bda55551d6814282\n",
      "Successfully built keras-retinanet\n",
      "Installing collected packages: keras-retinanet\n",
      "  Found existing installation: keras-retinanet 0.5.0\n",
      "    Uninstalling keras-retinanet-0.5.0:\n",
      "      Successfully uninstalled keras-retinanet-0.5.0\n",
      "Successfully installed keras-retinanet-0.5.0\n"
     ]
    }
   ],
   "source": [
    "os.chdir('./keras-retinanet-0.5.0')\n",
    "!python setup.py build_ext --inplace\n",
    "!pip install ."
   ]
  },
  {
   "cell_type": "code",
   "execution_count": 4,
   "metadata": {},
   "outputs": [],
   "source": [
    "# Error - bad request\n",
    "#os.chdir('../')\n",
    "#url = \"https://github.com/fizyr/\\\n",
    "        #keras-retinanet/releases/download/0.5.0/\\\n",
    "        #resnet50_coco_best_v2.1.0.h5\"\n",
    "#urllib.request.urlretrieve(url, './'+url.split('/')[-1])"
   ]
  },
  {
   "cell_type": "code",
   "execution_count": 5,
   "metadata": {},
   "outputs": [
    {
     "name": "stderr",
     "output_type": "stream",
     "text": [
      "Using TensorFlow backend.\n"
     ]
    }
   ],
   "source": [
    "import matplotlib.pyplot as plt\n",
    "import os\n",
    "import numpy as np\n",
    "from collections import defaultdict\n",
    "import keras\n",
    "\n",
    "from keras_retinanet import models\n",
    "from keras_retinanet.utils.image import (read_image_bgr, \n",
    "                          preprocess_image, resize_image)\n",
    "from keras_retinanet.utils.visualization import (draw_box, \n",
    "                                            draw_caption)\n",
    "from keras_retinanet.utils.colors import label_color\n",
    "\n",
    "%matplotlib inline"
   ]
  },
  {
   "cell_type": "code",
   "execution_count": 6,
   "metadata": {},
   "outputs": [],
   "source": [
    "# error...no such resnet file\n",
    "#import matplotlib.pyplot as plt\n",
    "#%matplotlib inline\n",
    "\n",
    "#model_path = os.path.join('.', 'resnet50_coco_best_v2.1.0.h5')\n",
    "\n",
    "#model = models.load_model(model_path, backbone_name='resnet50')\n",
    "\n",
    "#labels_to_names = defaultdict(lambda: 'object', {0: 'person',1: 'bicycle',2: 'car',3: 'motorcycle',4: 'airplane',5: \n",
    "            #'bus',6:'train',7: 'truck',8: 'boat',9: 'traffic light',10: 'fire hydrant',11:'stop sign',12: \n",
    "            #'parking meter',25:'umbrella' })"
   ]
  },
  {
   "cell_type": "code",
   "execution_count": 7,
   "metadata": {},
   "outputs": [
    {
     "data": {
      "text/plain": [
       "('./640px-Woman_with_blue_parasol_at_intersection.png',\n",
       " <http.client.HTTPMessage at 0xb41ee60b8>)"
      ]
     },
     "execution_count": 7,
     "metadata": {},
     "output_type": "execute_result"
    }
   ],
   "source": [
    "url = \"https://upload.wikimedia.org/wikipedia/commons/\\\n",
    "thumb/f/f8/Woman_with_blue_parasol_at_intersection.png/\\\n",
    "640px-Woman_with_blue_parasol_at_intersection.png\"\n",
    "urllib.request.urlretrieve(url, './'+url.split('/')[-1])"
   ]
  },
  {
   "cell_type": "code",
   "execution_count": 8,
   "metadata": {},
   "outputs": [],
   "source": [
    "#Ch 14\n",
    "import numpy as np\n",
    "\n",
    "texts =[\"My dog hates cats\",\n",
    "        \"That cat is vicious\"\n",
    "        \"My pet is happy\"]\n"
   ]
  },
  {
   "cell_type": "code",
   "execution_count": 9,
   "metadata": {},
   "outputs": [
    {
     "name": "stdout",
     "output_type": "stream",
     "text": [
      "There are 10unique words\n"
     ]
    }
   ],
   "source": [
    "unique_words = set(word.lower() for phrase in texts for word in phrase.split(\" \"))\n",
    "print(f\"There are {len(unique_words)}unique words\")"
   ]
  },
  {
   "cell_type": "code",
   "execution_count": 10,
   "metadata": {},
   "outputs": [],
   "source": [
    "from keras.preprocessing.text import Tokenizer\n",
    "vocabulary_size = len(unique_words) + 1\n",
    "tokenizer = Tokenizer(num_words=vocabulary_size)"
   ]
  },
  {
   "cell_type": "code",
   "execution_count": 11,
   "metadata": {},
   "outputs": [
    {
     "name": "stdout",
     "output_type": "stream",
     "text": [
      "{1: 'is', 2: 'my', 3: 'dog', 4: 'hates', 5: 'cats', 6: 'that', 7: 'cat', 8: 'viciousmy', 9: 'pet', 10: 'happy'}\n"
     ]
    }
   ],
   "source": [
    "tokenizer.fit_on_texts(texts)\n",
    "print(tokenizer.index_word)"
   ]
  },
  {
   "cell_type": "code",
   "execution_count": 12,
   "metadata": {},
   "outputs": [
    {
     "name": "stdout",
     "output_type": "stream",
     "text": [
      "[[0. 0. 1. 1. 1. 1. 0. 0. 0. 0. 0.]\n",
      " [0. 1. 0. 0. 0. 0. 1. 1. 1. 1. 1.]]\n"
     ]
    }
   ],
   "source": [
    "print(tokenizer.texts_to_matrix(texts))"
   ]
  },
  {
   "cell_type": "code",
   "execution_count": 13,
   "metadata": {},
   "outputs": [
    {
     "name": "stdout",
     "output_type": "stream",
     "text": [
      "[[0.  0.  0.7 0.7 0.7 0.7 0.  0.  0.  0.  0. ]\n",
      " [0.  1.2 0.  0.  0.  0.  0.7 0.7 0.7 0.7 0.7]]\n"
     ]
    }
   ],
   "source": [
    "print(np.round(tokenizer.texts_to_matrix(texts, mode = 'tfidf'), 1))"
   ]
  },
  {
   "cell_type": "code",
   "execution_count": 14,
   "metadata": {},
   "outputs": [
    {
     "name": "stdout",
     "output_type": "stream",
     "text": [
      "[[2, 3, 4, 5], [6, 7, 1, 8, 9, 1, 10]]\n"
     ]
    }
   ],
   "source": [
    "print(tokenizer.texts_to_sequences(texts))"
   ]
  },
  {
   "cell_type": "code",
   "execution_count": 15,
   "metadata": {},
   "outputs": [],
   "source": [
    "from keras.datasets import imdb\n",
    "\n",
    "top_words = 10000\n",
    "((x_train, y_train),\n",
    " (x_test, y_test)) = imdb.load_data(num_words=top_words, seed=21)"
   ]
  },
  {
   "cell_type": "code",
   "execution_count": 16,
   "metadata": {},
   "outputs": [
    {
     "name": "stdout",
     "output_type": "stream",
     "text": [
      "training examples: 25000\n",
      "test examples: 25000\n"
     ]
    }
   ],
   "source": [
    "print(\"training examples: %i\" % len(x_train))\n",
    "print(\"test examples: %i\" % len(x_test))\n"
   ]
  },
  {
   "cell_type": "code",
   "execution_count": 17,
   "metadata": {},
   "outputs": [
    {
     "name": "stdout",
     "output_type": "stream",
     "text": [
      "(array([0, 1]), array([12500, 12500]))\n"
     ]
    }
   ],
   "source": [
    "import numpy as np\n",
    "print(np.unique(y_train, return_counts=True))"
   ]
  },
  {
   "cell_type": "code",
   "execution_count": 18,
   "metadata": {},
   "outputs": [],
   "source": [
    "word_to_id = {w:i+3 for w,i in imdb.get_word_index().items()}\n",
    "id_to_word = {0:'<PAD>', 1:'<START>', 2:'<UNK>'}\n",
    "id_to_word.update({i+3:w for w,i in imdb.get_word_index().items()})\n",
    "\n",
    "def convert_to_text(sequence):\n",
    "    return ' '.join([id_to_word[s] for s in sequence if s>=3])"
   ]
  },
  {
   "cell_type": "code",
   "execution_count": 19,
   "metadata": {},
   "outputs": [
    {
     "name": "stdout",
     "output_type": "stream",
     "text": [
      "this movie was like a bad train wreck as horrible as it was you still had to continue to watch my boyfriend and i rented it and wasted two hours of our day now don't get me wrong the acting is good just the movie as a whole just both of us there wasn't anything positive or good about this scenario after this movie i had to go rent something else that was a little lighter jennifer is as usual a very dramatic actress her character seems manic and not all there hannah though over played she does a wonderful job playing out the situation she is in more than once i found myself yelling at the tv telling her to fight back or to get violent all in all very violent movie not for the faint of heart\n"
     ]
    }
   ],
   "source": [
    "print(convert_to_text(x_train[8]))"
   ]
  },
  {
   "cell_type": "code",
   "execution_count": 20,
   "metadata": {},
   "outputs": [],
   "source": [
    "from keras.preprocessing.sequence import pad_sequences\n",
    "\n",
    "max_pad = 200\n",
    "x_train = pad_sequences(x_train, \n",
    "                        maxlen=max_pad)\n",
    "\n",
    "x_test = pad_sequences(x_test, \n",
    "                       maxlen=max_pad)"
   ]
  },
  {
   "cell_type": "code",
   "execution_count": 21,
   "metadata": {},
   "outputs": [
    {
     "name": "stdout",
     "output_type": "stream",
     "text": [
      "[  88    4 3310  406 6762    2    4  427 2140 1656 4042    2   11   41\n",
      "    2  494   46 1954 4712  198   51   13  683 1193   10   10  198   66\n",
      "   89    4  114  495 7303  197    4 1168 1656   61  492 1131    7 5388\n",
      "   21   13  839   90  145    8  113   34 8253   27    2   19   15    7\n",
      "    6 8870 3310   88 8222   92    2    8 5388    5 1037    2    2 2864\n",
      "    2  449  168    6  404    2  112  207 1075    4  375 5986    7    4\n",
      "  406 1522   13  124  903   97   90    2   21    2   48   32  148 3310\n",
      "    2    2   93   61  492    2  305    7    2    4  893 8016   13  401\n",
      " 5679   83   27  117 2687 5419   29  941 1889   90   21  808   14   46\n",
      "  793    4 1526   84   37   28   34   96    7   49    2  114 1009 1054\n",
      "   56   23   61 2301 1111    9    4  255    8  937   61  492   16 3953\n",
      "  159   29 1131   13 2134 3872   81   41   32   14  832   56    8   35\n",
      "  576 1301    5 5348 3134  255  335  170    8    2   72 1168 1656   57\n",
      "   29    9    2    2 3310  415   11 5215   89 1047   10   10   81   24\n",
      "  106   14   20  126]\n"
     ]
    }
   ],
   "source": [
    "print(x_train[0])"
   ]
  },
  {
   "cell_type": "code",
   "execution_count": 22,
   "metadata": {},
   "outputs": [
    {
     "name": "stdout",
     "output_type": "stream",
     "text": [
      "_________________________________________________________________\n",
      "Layer (type)                 Output Shape              Param #   \n",
      "=================================================================\n",
      "embedding_1 (Embedding)      (None, 200, 32)           320000    \n",
      "_________________________________________________________________\n",
      "bidirectional_1 (Bidirection (None, 200, 128)          49664     \n",
      "_________________________________________________________________\n",
      "global_max_pooling1d_1 (Glob (None, 128)               0         \n",
      "_________________________________________________________________\n",
      "dense_1 (Dense)              (None, 16)                2064      \n",
      "_________________________________________________________________\n",
      "dense_2 (Dense)              (None, 1)                 17        \n",
      "=================================================================\n",
      "Total params: 371,745\n",
      "Trainable params: 371,745\n",
      "Non-trainable params: 0\n",
      "_________________________________________________________________\n",
      "None\n"
     ]
    }
   ],
   "source": [
    "from keras.models import Sequential \n",
    "from keras.layers import Bidirectional, Dense, Dropout \n",
    "from keras.layers import GlobalMaxPool1D, LSTM\n",
    "from keras.layers.embeddings import Embedding \n",
    "\n",
    "embedding_vector_length = 32 \n",
    "model = Sequential() \n",
    "model.add(Embedding(top_words, \n",
    "                    embedding_vector_length, \n",
    "                    input_length=max_pad)) \n",
    "\n",
    "model.add(Bidirectional(LSTM(64, return_sequences=True)))\n",
    "model.add(GlobalMaxPool1D())\n",
    "model.add(Dense(16, activation=\"relu\"))\n",
    "model.add(Dense(1, activation=\"sigmoid\"))\n",
    "\n",
    "model.compile(loss='binary_crossentropy',\n",
    "              optimizer='adam', \n",
    "              metrics=['accuracy']) \n",
    "\n",
    "print(model.summary())"
   ]
  },
  {
   "cell_type": "code",
   "execution_count": 23,
   "metadata": {},
   "outputs": [],
   "source": [
    "#history = model.fit(x_train, y_train, \n",
    "                    #validation_data=(x_test, y_test), \n",
    "                    #epochs=3, batch_size=256)\n"
   ]
  },
  {
   "cell_type": "code",
   "execution_count": 24,
   "metadata": {},
   "outputs": [],
   "source": [
    "#loss, metric = model.evaluate(x_test, y_test, verbose=0)\n",
    "#print(\"Test accuracy: %0.3f\" % metric)"
   ]
  },
  {
   "cell_type": "code",
   "execution_count": null,
   "metadata": {},
   "outputs": [],
   "source": []
  }
 ],
 "metadata": {
  "kernelspec": {
   "display_name": "Python 3",
   "language": "python",
   "name": "python3"
  },
  "language_info": {
   "codemirror_mode": {
    "name": "ipython",
    "version": 3
   },
   "file_extension": ".py",
   "mimetype": "text/x-python",
   "name": "python",
   "nbconvert_exporter": "python",
   "pygments_lexer": "ipython3",
   "version": "3.6.8"
  }
 },
 "nbformat": 4,
 "nbformat_minor": 2
}
